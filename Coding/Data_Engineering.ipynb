{
 "cells": [
  {
   "cell_type": "code",
   "execution_count": 20,
   "id": "63fc42da-82f1-4025-bf6b-a45481bda36d",
   "metadata": {
    "tags": []
   },
   "outputs": [],
   "source": [
    "# Dependencies and Setup\n",
    "import pandas as pd\n",
    "from pathlib import Path\n",
    "from sqlalchemy import create_engine, text\n",
    "\n",
    "# File to Load \n",
    "registration_data_to_load = Path(\"../Resources/chargers_by_postcode_prototype.csv\")\n",
    "ev_charger_data_to_load = Path(\"../Resources/ev_evc_prototype.csv\")\n",
    "fuel_type_data_to_load = Path(\"../Resources/NEMFUELMIX_ALL_202311022059.csv\")\n",
    "\n",
    "# Read Data Files and store into Pandas DataFrames\n",
    "registration = pd.read_csv(registration_data_to_load)\n",
    "ev_charger = pd.read_csv(ev_charger_data_to_load)\n",
    "fuel_type = pd.read_csv(fuel_type_data_to_load)\n"
   ]
  },
  {
   "cell_type": "code",
   "execution_count": 2,
   "id": "4f745f00-ca8d-4bdd-ba7b-95a51f8318c6",
   "metadata": {
    "tags": []
   },
   "outputs": [
    {
     "data": {
      "text/plain": [
       "latitude            504\n",
       "longitude           504\n",
       "Charger type        504\n",
       "Name                504\n",
       "State               504\n",
       "stations            504\n",
       "Plug types          504\n",
       "Charging Network    384\n",
       "Power (kW)          320\n",
       "Hardware brand      154\n",
       "Address             504\n",
       "Postcode            504\n",
       "dtype: int64"
      ]
     },
     "execution_count": 2,
     "metadata": {},
     "output_type": "execute_result"
    }
   ],
   "source": [
    "# Check for missing data\n",
    "ev_charger.count()"
   ]
  },
  {
   "cell_type": "code",
   "execution_count": 3,
   "id": "1afac598-9aff-47a6-8223-0ae91f56a256",
   "metadata": {
    "tags": []
   },
   "outputs": [
    {
     "data": {
      "text/html": [
       "<div>\n",
       "<style scoped>\n",
       "    .dataframe tbody tr th:only-of-type {\n",
       "        vertical-align: middle;\n",
       "    }\n",
       "\n",
       "    .dataframe tbody tr th {\n",
       "        vertical-align: top;\n",
       "    }\n",
       "\n",
       "    .dataframe thead th {\n",
       "        text-align: right;\n",
       "    }\n",
       "</style>\n",
       "<table border=\"1\" class=\"dataframe\">\n",
       "  <thead>\n",
       "    <tr style=\"text-align: right;\">\n",
       "      <th></th>\n",
       "      <th>latitude</th>\n",
       "      <th>longitude</th>\n",
       "      <th>Charger type</th>\n",
       "      <th>Name</th>\n",
       "      <th>State</th>\n",
       "      <th>stations</th>\n",
       "      <th>Plug types</th>\n",
       "      <th>Charging Network</th>\n",
       "      <th>Power (kW)</th>\n",
       "      <th>Hardware brand</th>\n",
       "      <th>Address</th>\n",
       "      <th>Postcode</th>\n",
       "    </tr>\n",
       "  </thead>\n",
       "  <tbody>\n",
       "    <tr>\n",
       "      <th>0</th>\n",
       "      <td>-36.029472</td>\n",
       "      <td>146.897073</td>\n",
       "      <td>AC (level 2)</td>\n",
       "      <td>Albury Waste Management Centre</td>\n",
       "      <td>NSW</td>\n",
       "      <td>1</td>\n",
       "      <td>Tesla (Type 2)</td>\n",
       "      <td>Chargefox</td>\n",
       "      <td>0.0</td>\n",
       "      <td></td>\n",
       "      <td>565 Mudge St, Hamilton Valley NSW 2641, Australia</td>\n",
       "      <td>2641</td>\n",
       "    </tr>\n",
       "    <tr>\n",
       "      <th>1</th>\n",
       "      <td>-30.511849</td>\n",
       "      <td>151.669382</td>\n",
       "      <td>AC (level 2)</td>\n",
       "      <td>Armidale Visitors Centre</td>\n",
       "      <td>NSW</td>\n",
       "      <td>1</td>\n",
       "      <td>Tesla (Type 2)</td>\n",
       "      <td>NRMA</td>\n",
       "      <td>50.0</td>\n",
       "      <td></td>\n",
       "      <td>82 Marsh St, Armidale NSW 2350, Australia</td>\n",
       "      <td>2350</td>\n",
       "    </tr>\n",
       "    <tr>\n",
       "      <th>2</th>\n",
       "      <td>-33.906637</td>\n",
       "      <td>151.213249</td>\n",
       "      <td>AC (level 2)</td>\n",
       "      <td>Audi Centre Sydney</td>\n",
       "      <td>NSW</td>\n",
       "      <td>1</td>\n",
       "      <td>Tesla (Type 2)</td>\n",
       "      <td>Chargefox</td>\n",
       "      <td>0.0</td>\n",
       "      <td></td>\n",
       "      <td>895 S Dowling St, Zetland NSW 2017, Australia</td>\n",
       "      <td>2017</td>\n",
       "    </tr>\n",
       "    <tr>\n",
       "      <th>3</th>\n",
       "      <td>-28.857543</td>\n",
       "      <td>153.561096</td>\n",
       "      <td>DC (level 3)</td>\n",
       "      <td>Ballina Central Shopping Centre</td>\n",
       "      <td>NSW</td>\n",
       "      <td>2</td>\n",
       "      <td>Both CHAdeMO &amp; CCS Combo 2/SAE</td>\n",
       "      <td>Chargefox</td>\n",
       "      <td>350.0</td>\n",
       "      <td></td>\n",
       "      <td>56 Bangalow Rd, Ballina NSW 2478, Australia</td>\n",
       "      <td>2478</td>\n",
       "    </tr>\n",
       "    <tr>\n",
       "      <th>4</th>\n",
       "      <td>-34.841118</td>\n",
       "      <td>148.912191</td>\n",
       "      <td>AC (level 2)</td>\n",
       "      <td>Banjo Paterson Park</td>\n",
       "      <td>NSW</td>\n",
       "      <td>1</td>\n",
       "      <td>Type 2</td>\n",
       "      <td>NRMA</td>\n",
       "      <td>50.0</td>\n",
       "      <td></td>\n",
       "      <td>81 Meehan St, Yass NSW 2582, Australia</td>\n",
       "      <td>2582</td>\n",
       "    </tr>\n",
       "  </tbody>\n",
       "</table>\n",
       "</div>"
      ],
      "text/plain": [
       "    latitude   longitude  Charger type                             Name State  \\\n",
       "0 -36.029472  146.897073  AC (level 2)   Albury Waste Management Centre   NSW   \n",
       "1 -30.511849  151.669382  AC (level 2)         Armidale Visitors Centre   NSW   \n",
       "2 -33.906637  151.213249  AC (level 2)               Audi Centre Sydney   NSW   \n",
       "3 -28.857543  153.561096  DC (level 3)  Ballina Central Shopping Centre   NSW   \n",
       "4 -34.841118  148.912191  AC (level 2)              Banjo Paterson Park   NSW   \n",
       "\n",
       "   stations                     Plug types  Charging Network  Power (kW)  \\\n",
       "0         1                  Tesla (Type 2)        Chargefox         0.0   \n",
       "1         1                  Tesla (Type 2)             NRMA        50.0   \n",
       "2         1                  Tesla (Type 2)        Chargefox         0.0   \n",
       "3         2  Both CHAdeMO & CCS Combo 2/SAE        Chargefox       350.0   \n",
       "4         1                          Type 2             NRMA        50.0   \n",
       "\n",
       "  Hardware brand                                            Address  Postcode  \n",
       "0                 565 Mudge St, Hamilton Valley NSW 2641, Australia      2641  \n",
       "1                         82 Marsh St, Armidale NSW 2350, Australia      2350  \n",
       "2                     895 S Dowling St, Zetland NSW 2017, Australia      2017  \n",
       "3                       56 Bangalow Rd, Ballina NSW 2478, Australia      2478  \n",
       "4                            81 Meehan St, Yass NSW 2582, Australia      2582  "
      ]
     },
     "execution_count": 3,
     "metadata": {},
     "output_type": "execute_result"
    }
   ],
   "source": [
    "# Data cleaning for ev_charger\n",
    "ev_charger_fix = ev_charger.fillna(\" \")\n",
    "ev_charger_fix[\"Power (kW)\"] = ev_charger_fix[\"Power (kW)\"].replace(\" \", 0)\n",
    "ev_charger_fix.head()"
   ]
  },
  {
   "cell_type": "code",
   "execution_count": 4,
   "id": "418ce172-e047-448a-87cb-353c58e9c690",
   "metadata": {
    "tags": []
   },
   "outputs": [
    {
     "data": {
      "text/plain": [
       "latitude            504\n",
       "longitude           504\n",
       "Charger type        504\n",
       "Name                504\n",
       "State               504\n",
       "stations            504\n",
       "Plug types          504\n",
       "Charging Network    504\n",
       "Power (kW)          504\n",
       "Hardware brand      504\n",
       "Address             504\n",
       "Postcode            504\n",
       "dtype: int64"
      ]
     },
     "execution_count": 4,
     "metadata": {},
     "output_type": "execute_result"
    }
   ],
   "source": [
    "ev_charger_fix.count()"
   ]
  },
  {
   "cell_type": "code",
   "execution_count": 5,
   "id": "16f7ceb8-d30d-4633-9500-6b26b701064e",
   "metadata": {
    "tags": []
   },
   "outputs": [
    {
     "data": {
      "text/plain": [
       "latitude            float64\n",
       "longitude           float64\n",
       "Charger type         object\n",
       "Name                 object\n",
       "State                object\n",
       "stations              int64\n",
       "Plug types           object\n",
       "Charging Network     object\n",
       "Power (kW)          float64\n",
       "Hardware brand       object\n",
       "Address              object\n",
       "Postcode              int64\n",
       "dtype: object"
      ]
     },
     "execution_count": 5,
     "metadata": {},
     "output_type": "execute_result"
    }
   ],
   "source": [
    "ev_charger_fix.dtypes"
   ]
  },
  {
   "cell_type": "code",
   "execution_count": 6,
   "id": "3f5e982f-0528-4268-b8c3-573685e78b32",
   "metadata": {
    "tags": []
   },
   "outputs": [
    {
     "data": {
      "text/html": [
       "<div>\n",
       "<style scoped>\n",
       "    .dataframe tbody tr th:only-of-type {\n",
       "        vertical-align: middle;\n",
       "    }\n",
       "\n",
       "    .dataframe tbody tr th {\n",
       "        vertical-align: top;\n",
       "    }\n",
       "\n",
       "    .dataframe thead th {\n",
       "        text-align: right;\n",
       "    }\n",
       "</style>\n",
       "<table border=\"1\" class=\"dataframe\">\n",
       "  <thead>\n",
       "    <tr style=\"text-align: right;\">\n",
       "      <th></th>\n",
       "      <th>Postcode</th>\n",
       "      <th>Registrations</th>\n",
       "      <th>Year</th>\n",
       "      <th>Audi</th>\n",
       "      <th>BMW</th>\n",
       "      <th>BYD</th>\n",
       "      <th>Hyundai</th>\n",
       "      <th>NISSAN</th>\n",
       "      <th>Porsche</th>\n",
       "      <th>Renault</th>\n",
       "      <th>TESLA</th>\n",
       "      <th>VOLKSW</th>\n",
       "    </tr>\n",
       "  </thead>\n",
       "  <tbody>\n",
       "    <tr>\n",
       "      <th>0</th>\n",
       "      <td>200</td>\n",
       "      <td>NaN</td>\n",
       "      <td>2017</td>\n",
       "      <td>NaN</td>\n",
       "      <td>NaN</td>\n",
       "      <td>NaN</td>\n",
       "      <td>NaN</td>\n",
       "      <td>NaN</td>\n",
       "      <td>NaN</td>\n",
       "      <td>NaN</td>\n",
       "      <td>NaN</td>\n",
       "      <td>NaN</td>\n",
       "    </tr>\n",
       "    <tr>\n",
       "      <th>1</th>\n",
       "      <td>1001</td>\n",
       "      <td>NaN</td>\n",
       "      <td>2017</td>\n",
       "      <td>NaN</td>\n",
       "      <td>NaN</td>\n",
       "      <td>NaN</td>\n",
       "      <td>NaN</td>\n",
       "      <td>NaN</td>\n",
       "      <td>NaN</td>\n",
       "      <td>NaN</td>\n",
       "      <td>NaN</td>\n",
       "      <td>NaN</td>\n",
       "    </tr>\n",
       "    <tr>\n",
       "      <th>2</th>\n",
       "      <td>1002</td>\n",
       "      <td>NaN</td>\n",
       "      <td>2017</td>\n",
       "      <td>NaN</td>\n",
       "      <td>NaN</td>\n",
       "      <td>NaN</td>\n",
       "      <td>NaN</td>\n",
       "      <td>NaN</td>\n",
       "      <td>NaN</td>\n",
       "      <td>NaN</td>\n",
       "      <td>NaN</td>\n",
       "      <td>NaN</td>\n",
       "    </tr>\n",
       "    <tr>\n",
       "      <th>3</th>\n",
       "      <td>1003</td>\n",
       "      <td>NaN</td>\n",
       "      <td>2017</td>\n",
       "      <td>NaN</td>\n",
       "      <td>NaN</td>\n",
       "      <td>NaN</td>\n",
       "      <td>NaN</td>\n",
       "      <td>NaN</td>\n",
       "      <td>NaN</td>\n",
       "      <td>NaN</td>\n",
       "      <td>NaN</td>\n",
       "      <td>NaN</td>\n",
       "    </tr>\n",
       "    <tr>\n",
       "      <th>4</th>\n",
       "      <td>1004</td>\n",
       "      <td>NaN</td>\n",
       "      <td>2017</td>\n",
       "      <td>NaN</td>\n",
       "      <td>NaN</td>\n",
       "      <td>NaN</td>\n",
       "      <td>NaN</td>\n",
       "      <td>NaN</td>\n",
       "      <td>NaN</td>\n",
       "      <td>NaN</td>\n",
       "      <td>NaN</td>\n",
       "      <td>NaN</td>\n",
       "    </tr>\n",
       "  </tbody>\n",
       "</table>\n",
       "</div>"
      ],
      "text/plain": [
       "   Postcode  Registrations  Year  Audi  BMW  BYD  Hyundai  NISSAN  Porsche  \\\n",
       "0       200            NaN  2017   NaN  NaN  NaN      NaN     NaN      NaN   \n",
       "1      1001            NaN  2017   NaN  NaN  NaN      NaN     NaN      NaN   \n",
       "2      1002            NaN  2017   NaN  NaN  NaN      NaN     NaN      NaN   \n",
       "3      1003            NaN  2017   NaN  NaN  NaN      NaN     NaN      NaN   \n",
       "4      1004            NaN  2017   NaN  NaN  NaN      NaN     NaN      NaN   \n",
       "\n",
       "   Renault  TESLA  VOLKSW  \n",
       "0      NaN    NaN     NaN  \n",
       "1      NaN    NaN     NaN  \n",
       "2      NaN    NaN     NaN  \n",
       "3      NaN    NaN     NaN  \n",
       "4      NaN    NaN     NaN  "
      ]
     },
     "execution_count": 6,
     "metadata": {},
     "output_type": "execute_result"
    }
   ],
   "source": [
    "# Data cleaning for registration\n",
    "# Select wanted columns (\"Top 9 ev car brands in au\")\n",
    "selected_registration= registration[[\"Postcode\", \"Registrations\", \"Year\", \"Audi\", \"BMW\", \"BYD\", \"Hyundai\", \"NISSAN\", \"Porsche\", \n",
    "                                    \"Renault\", \"TESLA\", \"VOLKSW\"]]\n",
    "selected_registration.head()"
   ]
  },
  {
   "cell_type": "code",
   "execution_count": 7,
   "id": "3bb325aa-a20d-46d4-94f0-8ea0b7b6faf0",
   "metadata": {
    "tags": []
   },
   "outputs": [
    {
     "data": {
      "text/plain": [
       "Postcode         4750\n",
       "Registrations    1901\n",
       "Year             4750\n",
       "Audi               21\n",
       "BMW               384\n",
       "BYD                 9\n",
       "Hyundai           238\n",
       "NISSAN            337\n",
       "Porsche            74\n",
       "Renault            40\n",
       "TESLA            1163\n",
       "VOLKSW              8\n",
       "dtype: int64"
      ]
     },
     "execution_count": 7,
     "metadata": {},
     "output_type": "execute_result"
    }
   ],
   "source": [
    "# Check for missing data\n",
    "selected_registration.count()"
   ]
  },
  {
   "cell_type": "code",
   "execution_count": 8,
   "id": "9c1026d5-730d-464e-8cad-0b7c601384ac",
   "metadata": {
    "tags": []
   },
   "outputs": [
    {
     "data": {
      "text/html": [
       "<div>\n",
       "<style scoped>\n",
       "    .dataframe tbody tr th:only-of-type {\n",
       "        vertical-align: middle;\n",
       "    }\n",
       "\n",
       "    .dataframe tbody tr th {\n",
       "        vertical-align: top;\n",
       "    }\n",
       "\n",
       "    .dataframe thead th {\n",
       "        text-align: right;\n",
       "    }\n",
       "</style>\n",
       "<table border=\"1\" class=\"dataframe\">\n",
       "  <thead>\n",
       "    <tr style=\"text-align: right;\">\n",
       "      <th></th>\n",
       "      <th>Postcode</th>\n",
       "      <th>Registrations</th>\n",
       "      <th>Year</th>\n",
       "      <th>Audi</th>\n",
       "      <th>BMW</th>\n",
       "      <th>BYD</th>\n",
       "      <th>Hyundai</th>\n",
       "      <th>NISSAN</th>\n",
       "      <th>Porsche</th>\n",
       "      <th>Renault</th>\n",
       "      <th>TESLA</th>\n",
       "      <th>VOLKSW</th>\n",
       "    </tr>\n",
       "  </thead>\n",
       "  <tbody>\n",
       "    <tr>\n",
       "      <th>0</th>\n",
       "      <td>200</td>\n",
       "      <td>0.0</td>\n",
       "      <td>2017</td>\n",
       "      <td>0.0</td>\n",
       "      <td>0.0</td>\n",
       "      <td>0.0</td>\n",
       "      <td>0.0</td>\n",
       "      <td>0.0</td>\n",
       "      <td>0.0</td>\n",
       "      <td>0.0</td>\n",
       "      <td>0.0</td>\n",
       "      <td>0.0</td>\n",
       "    </tr>\n",
       "    <tr>\n",
       "      <th>1</th>\n",
       "      <td>1001</td>\n",
       "      <td>0.0</td>\n",
       "      <td>2017</td>\n",
       "      <td>0.0</td>\n",
       "      <td>0.0</td>\n",
       "      <td>0.0</td>\n",
       "      <td>0.0</td>\n",
       "      <td>0.0</td>\n",
       "      <td>0.0</td>\n",
       "      <td>0.0</td>\n",
       "      <td>0.0</td>\n",
       "      <td>0.0</td>\n",
       "    </tr>\n",
       "    <tr>\n",
       "      <th>2</th>\n",
       "      <td>1002</td>\n",
       "      <td>0.0</td>\n",
       "      <td>2017</td>\n",
       "      <td>0.0</td>\n",
       "      <td>0.0</td>\n",
       "      <td>0.0</td>\n",
       "      <td>0.0</td>\n",
       "      <td>0.0</td>\n",
       "      <td>0.0</td>\n",
       "      <td>0.0</td>\n",
       "      <td>0.0</td>\n",
       "      <td>0.0</td>\n",
       "    </tr>\n",
       "    <tr>\n",
       "      <th>3</th>\n",
       "      <td>1003</td>\n",
       "      <td>0.0</td>\n",
       "      <td>2017</td>\n",
       "      <td>0.0</td>\n",
       "      <td>0.0</td>\n",
       "      <td>0.0</td>\n",
       "      <td>0.0</td>\n",
       "      <td>0.0</td>\n",
       "      <td>0.0</td>\n",
       "      <td>0.0</td>\n",
       "      <td>0.0</td>\n",
       "      <td>0.0</td>\n",
       "    </tr>\n",
       "    <tr>\n",
       "      <th>4</th>\n",
       "      <td>1004</td>\n",
       "      <td>0.0</td>\n",
       "      <td>2017</td>\n",
       "      <td>0.0</td>\n",
       "      <td>0.0</td>\n",
       "      <td>0.0</td>\n",
       "      <td>0.0</td>\n",
       "      <td>0.0</td>\n",
       "      <td>0.0</td>\n",
       "      <td>0.0</td>\n",
       "      <td>0.0</td>\n",
       "      <td>0.0</td>\n",
       "    </tr>\n",
       "  </tbody>\n",
       "</table>\n",
       "</div>"
      ],
      "text/plain": [
       "   Postcode  Registrations  Year  Audi  BMW  BYD  Hyundai  NISSAN  Porsche  \\\n",
       "0       200            0.0  2017   0.0  0.0  0.0      0.0     0.0      0.0   \n",
       "1      1001            0.0  2017   0.0  0.0  0.0      0.0     0.0      0.0   \n",
       "2      1002            0.0  2017   0.0  0.0  0.0      0.0     0.0      0.0   \n",
       "3      1003            0.0  2017   0.0  0.0  0.0      0.0     0.0      0.0   \n",
       "4      1004            0.0  2017   0.0  0.0  0.0      0.0     0.0      0.0   \n",
       "\n",
       "   Renault  TESLA  VOLKSW  \n",
       "0      0.0    0.0     0.0  \n",
       "1      0.0    0.0     0.0  \n",
       "2      0.0    0.0     0.0  \n",
       "3      0.0    0.0     0.0  \n",
       "4      0.0    0.0     0.0  "
      ]
     },
     "execution_count": 8,
     "metadata": {},
     "output_type": "execute_result"
    }
   ],
   "source": [
    "# Replace null valuues with 0\n",
    "new_registration = selected_registration.fillna(0)\n",
    "new_registration.head()"
   ]
  },
  {
   "cell_type": "code",
   "execution_count": 9,
   "id": "e61e32fa-0cf6-41d0-8815-c170c1ab04d7",
   "metadata": {
    "tags": []
   },
   "outputs": [
    {
     "data": {
      "text/plain": [
       "Postcode         4750\n",
       "Registrations    4750\n",
       "Year             4750\n",
       "Audi             4750\n",
       "BMW              4750\n",
       "BYD              4750\n",
       "Hyundai          4750\n",
       "NISSAN           4750\n",
       "Porsche          4750\n",
       "Renault          4750\n",
       "TESLA            4750\n",
       "VOLKSW           4750\n",
       "dtype: int64"
      ]
     },
     "execution_count": 9,
     "metadata": {},
     "output_type": "execute_result"
    }
   ],
   "source": [
    "new_registration.count()"
   ]
  },
  {
   "cell_type": "code",
   "execution_count": 10,
   "id": "24f517a4-b114-44d2-92b2-10bb822cfc9f",
   "metadata": {
    "tags": []
   },
   "outputs": [
    {
     "data": {
      "text/plain": [
       "Postcode           int64\n",
       "Registrations    float64\n",
       "Year               int64\n",
       "Audi             float64\n",
       "BMW              float64\n",
       "BYD              float64\n",
       "Hyundai          float64\n",
       "NISSAN           float64\n",
       "Porsche          float64\n",
       "Renault          float64\n",
       "TESLA            float64\n",
       "VOLKSW           float64\n",
       "dtype: object"
      ]
     },
     "execution_count": 10,
     "metadata": {},
     "output_type": "execute_result"
    }
   ],
   "source": [
    "new_registration.dtypes"
   ]
  },
  {
   "cell_type": "code",
   "execution_count": 11,
   "id": "344da754-6fcd-4504-a632-ca33a425cd65",
   "metadata": {
    "tags": []
   },
   "outputs": [
    {
     "data": {
      "text/plain": [
       "DateTime     1523\n",
       "State        1523\n",
       "Fuel Type    1523\n",
       "Supply       1523\n",
       "dtype: int64"
      ]
     },
     "execution_count": 11,
     "metadata": {},
     "output_type": "execute_result"
    }
   ],
   "source": [
    "# Check for missing data\n",
    "fuel_type.count()"
   ]
  },
  {
   "cell_type": "code",
   "execution_count": 12,
   "id": "638f52f7-442c-4016-9a5d-a2dde684fa66",
   "metadata": {
    "tags": []
   },
   "outputs": [
    {
     "data": {
      "text/plain": [
       "DateTime      object\n",
       "State         object\n",
       "Fuel Type     object\n",
       "Supply       float64\n",
       "dtype: object"
      ]
     },
     "execution_count": 12,
     "metadata": {},
     "output_type": "execute_result"
    }
   ],
   "source": [
    "fuel_type.dtypes"
   ]
  },
  {
   "cell_type": "code",
   "execution_count": 13,
   "id": "8d103b6e-a4a9-4376-af54-dc5be9ff1a46",
   "metadata": {
    "tags": []
   },
   "outputs": [
    {
     "data": {
      "text/html": [
       "<div>\n",
       "<style scoped>\n",
       "    .dataframe tbody tr th:only-of-type {\n",
       "        vertical-align: middle;\n",
       "    }\n",
       "\n",
       "    .dataframe tbody tr th {\n",
       "        vertical-align: top;\n",
       "    }\n",
       "\n",
       "    .dataframe thead th {\n",
       "        text-align: right;\n",
       "    }\n",
       "</style>\n",
       "<table border=\"1\" class=\"dataframe\">\n",
       "  <thead>\n",
       "    <tr style=\"text-align: right;\">\n",
       "      <th></th>\n",
       "      <th>DateTime</th>\n",
       "      <th>State</th>\n",
       "      <th>Fuel Type</th>\n",
       "      <th>Supply</th>\n",
       "    </tr>\n",
       "  </thead>\n",
       "  <tbody>\n",
       "    <tr>\n",
       "      <th>0</th>\n",
       "      <td>29/10/2022 0:00</td>\n",
       "      <td>NSW</td>\n",
       "      <td>Battery</td>\n",
       "      <td>362.534</td>\n",
       "    </tr>\n",
       "    <tr>\n",
       "      <th>1</th>\n",
       "      <td>29/10/2022 0:00</td>\n",
       "      <td>NSW</td>\n",
       "      <td>Black coal</td>\n",
       "      <td>627223.514</td>\n",
       "    </tr>\n",
       "    <tr>\n",
       "      <th>2</th>\n",
       "      <td>29/10/2022 0:00</td>\n",
       "      <td>NSW</td>\n",
       "      <td>Gas</td>\n",
       "      <td>13468.075</td>\n",
       "    </tr>\n",
       "    <tr>\n",
       "      <th>3</th>\n",
       "      <td>29/10/2022 0:00</td>\n",
       "      <td>NSW</td>\n",
       "      <td>Hydro</td>\n",
       "      <td>104066.278</td>\n",
       "    </tr>\n",
       "    <tr>\n",
       "      <th>4</th>\n",
       "      <td>29/10/2022 0:00</td>\n",
       "      <td>NSW</td>\n",
       "      <td>Liquid Fuel</td>\n",
       "      <td>67.375</td>\n",
       "    </tr>\n",
       "  </tbody>\n",
       "</table>\n",
       "</div>"
      ],
      "text/plain": [
       "          DateTime State    Fuel Type      Supply\n",
       "0  29/10/2022 0:00   NSW      Battery     362.534\n",
       "1  29/10/2022 0:00   NSW   Black coal  627223.514\n",
       "2  29/10/2022 0:00   NSW          Gas   13468.075\n",
       "3  29/10/2022 0:00   NSW        Hydro  104066.278\n",
       "4  29/10/2022 0:00   NSW  Liquid Fuel      67.375"
      ]
     },
     "execution_count": 13,
     "metadata": {},
     "output_type": "execute_result"
    }
   ],
   "source": [
    "fuel_type.head()"
   ]
  },
  {
   "cell_type": "code",
   "execution_count": 14,
   "id": "40e545b6-f504-40ce-979c-afd97a3f7023",
   "metadata": {
    "tags": []
   },
   "outputs": [],
   "source": [
    "# Establish connection\n",
    "engine = create_engine('sqlite:///Data_Engineering.db')"
   ]
  },
  {
   "cell_type": "code",
   "execution_count": 23,
   "id": "ec5a6dc0-b10d-4e76-b3b6-0ff8170969bd",
   "metadata": {
    "tags": []
   },
   "outputs": [
    {
     "data": {
      "text/plain": [
       "504"
      ]
     },
     "execution_count": 23,
     "metadata": {},
     "output_type": "execute_result"
    }
   ],
   "source": [
    "# Drop the existing table and create a new one with the desired primary key\n",
    "with engine.connect() as con:\n",
    "    con.execute(text('CREATE TABLE IF NOT EXISTS \"ev_charger\" (latitude FLOAT, longitude FLOAT, \"Charger type\" VARCHAR, PRIMARY KEY (latitude, longitude, \"Charger type\"))'))\n",
    "\n",
    "# Output to the database\n",
    "ev_charger_fix.to_sql(name='ev_charger', con=engine, if_exists='replace', index=False)"
   ]
  },
  {
   "cell_type": "code",
   "execution_count": 24,
   "id": "21d1b619-7327-462f-a815-16c098d861e2",
   "metadata": {
    "tags": []
   },
   "outputs": [
    {
     "data": {
      "text/plain": [
       "1523"
      ]
     },
     "execution_count": 24,
     "metadata": {},
     "output_type": "execute_result"
    }
   ],
   "source": [
    "# Drop the existing table and create a new one with the desired primary key\n",
    "with engine.connect() as con:\n",
    "    con.execute(text('CREATE TABLE IF NOT EXISTS \"fuel_type\" (\"DateTime\" DATETIME, \"State\" VARCHAR, \"Fuel Type\" VARCHAR, \"Supply\" FLOAT, PRIMARY KEY (\"DateTime\", \"State\", \"Fuel Type\"))'))\n",
    "\n",
    "# Output to the database\n",
    "fuel_type.to_sql(name='fuel_type', con=engine, if_exists='replace', index=False)"
   ]
  },
  {
   "cell_type": "code",
   "execution_count": 25,
   "id": "d30fe2cd-dcee-41e2-a63a-311a682d608b",
   "metadata": {
    "tags": []
   },
   "outputs": [
    {
     "data": {
      "text/plain": [
       "4750"
      ]
     },
     "execution_count": 25,
     "metadata": {},
     "output_type": "execute_result"
    }
   ],
   "source": [
    "# Drop the existing table and create a new one with the desired primary key\n",
    "with engine.connect() as con:\n",
    "    con.execute(text('CREATE TABLE IF NOT EXISTS \"registration\" (\"Postcode\" INTEGER, \"Registrations\" FLOAT, \"Year\" INTEGER, \"Audi\" FLOAT, \"BMW\" FLOAT, \"BYD\" FLOAT, \"Hyundai\" FLOAT, \"NISSAN\" FLOAT, \"Porsche\" FLOAT, \"Renault\" FLOAT, \"TESLA\" FLOAT, \"VOLKSW\" FLOAT, PRIMARY KEY (\"Postcode\", \"Year\"))'))\n",
    "\n",
    "# Output to the database\n",
    "new_registration.to_sql(name='registration', con=engine, if_exists='replace', index=False)"
   ]
  },
  {
   "cell_type": "code",
   "execution_count": null,
   "id": "52fb70a7-0d74-4657-abe0-45b706342e3d",
   "metadata": {},
   "outputs": [],
   "source": []
  }
 ],
 "metadata": {
  "kernelspec": {
   "display_name": "Python 3 (ipykernel)",
   "language": "python",
   "name": "python3"
  },
  "language_info": {
   "codemirror_mode": {
    "name": "ipython",
    "version": 3
   },
   "file_extension": ".py",
   "mimetype": "text/x-python",
   "name": "python",
   "nbconvert_exporter": "python",
   "pygments_lexer": "ipython3",
   "version": "3.10.12"
  }
 },
 "nbformat": 4,
 "nbformat_minor": 5
}
