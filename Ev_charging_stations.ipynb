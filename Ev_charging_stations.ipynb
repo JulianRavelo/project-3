{
 "cells": [
  {
   "cell_type": "code",
   "execution_count": 19,
   "id": "327efaa9-ba64-4d9f-85ba-375b42b376c7",
   "metadata": {
    "tags": []
   },
   "outputs": [],
   "source": [
    "#import libraries\n",
    "import pandas as pd\n",
    "import numpy as np\n",
    "import matplotlib.pyplot as plt\n",
    "from matplotlib import colors\n",
    "import seaborn as sns\n",
    "from sklearn import preprocessing\n",
    "from sklearn.cluster import KMeans"
   ]
  },
  {
   "cell_type": "code",
   "execution_count": 20,
   "id": "00746c8c-21f6-4d2b-ac73-4bf1bcd72bde",
   "metadata": {
    "tags": []
   },
   "outputs": [],
   "source": [
    "#load dataset\n",
    "df= pd.read_csv('ev_evc_prototype.csv')"
   ]
  },
  {
   "cell_type": "code",
   "execution_count": 21,
   "id": "0cfbd336-faa9-4879-8054-fd9f14041933",
   "metadata": {
    "tags": []
   },
   "outputs": [
    {
     "name": "stdout",
     "output_type": "stream",
     "text": [
      "<class 'pandas.core.frame.DataFrame'>\n",
      "RangeIndex: 504 entries, 0 to 503\n",
      "Data columns (total 12 columns):\n",
      " #   Column            Non-Null Count  Dtype  \n",
      "---  ------            --------------  -----  \n",
      " 0   latitude          504 non-null    float64\n",
      " 1   longitude         504 non-null    float64\n",
      " 2   Charger type      504 non-null    object \n",
      " 3   Name              504 non-null    object \n",
      " 4   State             504 non-null    object \n",
      " 5   stations          504 non-null    int64  \n",
      " 6   Plug types        504 non-null    object \n",
      " 7   Charging Network  384 non-null    object \n",
      " 8   Power (kW)        320 non-null    float64\n",
      " 9   Hardware brand    154 non-null    object \n",
      " 10  Address           504 non-null    object \n",
      " 11  Postcode          504 non-null    int64  \n",
      "dtypes: float64(3), int64(2), object(7)\n",
      "memory usage: 47.4+ KB\n"
     ]
    }
   ],
   "source": [
    "df.info()"
   ]
  },
  {
   "cell_type": "code",
   "execution_count": 22,
   "id": "fef88dce-f426-4837-9fe9-a6e884478966",
   "metadata": {
    "tags": []
   },
   "outputs": [
    {
     "data": {
      "text/plain": [
       "Index(['latitude', 'longitude', 'Charger type', 'Name', 'State', 'stations',\n",
       "       'Plug types ', 'Charging Network', 'Power (kW)', 'Hardware brand',\n",
       "       'Address', 'Postcode'],\n",
       "      dtype='object')"
      ]
     },
     "execution_count": 22,
     "metadata": {},
     "output_type": "execute_result"
    }
   ],
   "source": [
    "#display columns\n",
    "df.columns"
   ]
  },
  {
   "cell_type": "code",
   "execution_count": 23,
   "id": "210822c6-9820-4b10-8b61-35a7bcc7b473",
   "metadata": {
    "tags": []
   },
   "outputs": [
    {
     "data": {
      "text/plain": [
       "latitude              0\n",
       "longitude             0\n",
       "Charger type          0\n",
       "Name                  0\n",
       "State                 0\n",
       "stations              0\n",
       "Plug types            0\n",
       "Charging Network    120\n",
       "Power (kW)          184\n",
       "Hardware brand      350\n",
       "Address               0\n",
       "Postcode              0\n",
       "dtype: int64"
      ]
     },
     "execution_count": 23,
     "metadata": {},
     "output_type": "execute_result"
    }
   ],
   "source": [
    "#calculate sum of null values\n",
    "df.isnull().sum()"
   ]
  },
  {
   "cell_type": "code",
   "execution_count": 24,
   "id": "7e764848-43b2-4901-82b1-83a0f40227b6",
   "metadata": {
    "tags": []
   },
   "outputs": [],
   "source": [
    "#display all columns\n",
    "pd.set_option('display.max_columns', None)"
   ]
  },
  {
   "cell_type": "code",
   "execution_count": 25,
   "id": "190f700e-4dbf-480c-95bc-f2dfa58d1eb8",
   "metadata": {
    "tags": []
   },
   "outputs": [
    {
     "data": {
      "text/html": [
       "<div>\n",
       "<style scoped>\n",
       "    .dataframe tbody tr th:only-of-type {\n",
       "        vertical-align: middle;\n",
       "    }\n",
       "\n",
       "    .dataframe tbody tr th {\n",
       "        vertical-align: top;\n",
       "    }\n",
       "\n",
       "    .dataframe thead th {\n",
       "        text-align: right;\n",
       "    }\n",
       "</style>\n",
       "<table border=\"1\" class=\"dataframe\">\n",
       "  <thead>\n",
       "    <tr style=\"text-align: right;\">\n",
       "      <th></th>\n",
       "      <th>latitude</th>\n",
       "      <th>longitude</th>\n",
       "      <th>Charger type</th>\n",
       "      <th>Name</th>\n",
       "      <th>State</th>\n",
       "      <th>stations</th>\n",
       "      <th>Plug types</th>\n",
       "      <th>Charging Network</th>\n",
       "      <th>Power (kW)</th>\n",
       "      <th>Hardware brand</th>\n",
       "      <th>Address</th>\n",
       "      <th>Postcode</th>\n",
       "    </tr>\n",
       "  </thead>\n",
       "  <tbody>\n",
       "    <tr>\n",
       "      <th>0</th>\n",
       "      <td>-36.029472</td>\n",
       "      <td>146.897073</td>\n",
       "      <td>AC (level 2)</td>\n",
       "      <td>Albury Waste Management Centre</td>\n",
       "      <td>NSW</td>\n",
       "      <td>1</td>\n",
       "      <td>Tesla (Type 2)</td>\n",
       "      <td>Chargefox</td>\n",
       "      <td>NaN</td>\n",
       "      <td>NaN</td>\n",
       "      <td>565 Mudge St, Hamilton Valley NSW 2641, Australia</td>\n",
       "      <td>2641</td>\n",
       "    </tr>\n",
       "    <tr>\n",
       "      <th>1</th>\n",
       "      <td>-30.511849</td>\n",
       "      <td>151.669382</td>\n",
       "      <td>AC (level 2)</td>\n",
       "      <td>Armidale Visitors Centre</td>\n",
       "      <td>NSW</td>\n",
       "      <td>1</td>\n",
       "      <td>Tesla (Type 2)</td>\n",
       "      <td>NRMA</td>\n",
       "      <td>50.0</td>\n",
       "      <td>NaN</td>\n",
       "      <td>82 Marsh St, Armidale NSW 2350, Australia</td>\n",
       "      <td>2350</td>\n",
       "    </tr>\n",
       "    <tr>\n",
       "      <th>2</th>\n",
       "      <td>-33.906637</td>\n",
       "      <td>151.213249</td>\n",
       "      <td>AC (level 2)</td>\n",
       "      <td>Audi Centre Sydney</td>\n",
       "      <td>NSW</td>\n",
       "      <td>1</td>\n",
       "      <td>Tesla (Type 2)</td>\n",
       "      <td>Chargefox</td>\n",
       "      <td>NaN</td>\n",
       "      <td>NaN</td>\n",
       "      <td>895 S Dowling St, Zetland NSW 2017, Australia</td>\n",
       "      <td>2017</td>\n",
       "    </tr>\n",
       "    <tr>\n",
       "      <th>3</th>\n",
       "      <td>-28.857543</td>\n",
       "      <td>153.561096</td>\n",
       "      <td>DC (level 3)</td>\n",
       "      <td>Ballina Central Shopping Centre</td>\n",
       "      <td>NSW</td>\n",
       "      <td>2</td>\n",
       "      <td>Both CHAdeMO &amp; CCS Combo 2/SAE</td>\n",
       "      <td>Chargefox</td>\n",
       "      <td>350.0</td>\n",
       "      <td>NaN</td>\n",
       "      <td>56 Bangalow Rd, Ballina NSW 2478, Australia</td>\n",
       "      <td>2478</td>\n",
       "    </tr>\n",
       "    <tr>\n",
       "      <th>4</th>\n",
       "      <td>-34.841118</td>\n",
       "      <td>148.912191</td>\n",
       "      <td>AC (level 2)</td>\n",
       "      <td>Banjo Paterson Park</td>\n",
       "      <td>NSW</td>\n",
       "      <td>1</td>\n",
       "      <td>Type 2</td>\n",
       "      <td>NRMA</td>\n",
       "      <td>50.0</td>\n",
       "      <td>NaN</td>\n",
       "      <td>81 Meehan St, Yass NSW 2582, Australia</td>\n",
       "      <td>2582</td>\n",
       "    </tr>\n",
       "  </tbody>\n",
       "</table>\n",
       "</div>"
      ],
      "text/plain": [
       "    latitude   longitude  Charger type                             Name State  \\\n",
       "0 -36.029472  146.897073  AC (level 2)   Albury Waste Management Centre   NSW   \n",
       "1 -30.511849  151.669382  AC (level 2)         Armidale Visitors Centre   NSW   \n",
       "2 -33.906637  151.213249  AC (level 2)               Audi Centre Sydney   NSW   \n",
       "3 -28.857543  153.561096  DC (level 3)  Ballina Central Shopping Centre   NSW   \n",
       "4 -34.841118  148.912191  AC (level 2)              Banjo Paterson Park   NSW   \n",
       "\n",
       "   stations                     Plug types  Charging Network  Power (kW)  \\\n",
       "0         1                  Tesla (Type 2)        Chargefox         NaN   \n",
       "1         1                  Tesla (Type 2)             NRMA        50.0   \n",
       "2         1                  Tesla (Type 2)        Chargefox         NaN   \n",
       "3         2  Both CHAdeMO & CCS Combo 2/SAE        Chargefox       350.0   \n",
       "4         1                          Type 2             NRMA        50.0   \n",
       "\n",
       "  Hardware brand                                            Address  Postcode  \n",
       "0            NaN  565 Mudge St, Hamilton Valley NSW 2641, Australia      2641  \n",
       "1            NaN          82 Marsh St, Armidale NSW 2350, Australia      2350  \n",
       "2            NaN      895 S Dowling St, Zetland NSW 2017, Australia      2017  \n",
       "3            NaN        56 Bangalow Rd, Ballina NSW 2478, Australia      2478  \n",
       "4            NaN             81 Meehan St, Yass NSW 2582, Australia      2582  "
      ]
     },
     "execution_count": 25,
     "metadata": {},
     "output_type": "execute_result"
    }
   ],
   "source": [
    "df.head()"
   ]
  },
  {
   "cell_type": "code",
   "execution_count": 26,
   "id": "5186bfc3-d5ec-4063-9ff6-11d33869c57c",
   "metadata": {
    "tags": []
   },
   "outputs": [
    {
     "data": {
      "text/html": [
       "<div>\n",
       "<style scoped>\n",
       "    .dataframe tbody tr th:only-of-type {\n",
       "        vertical-align: middle;\n",
       "    }\n",
       "\n",
       "    .dataframe tbody tr th {\n",
       "        vertical-align: top;\n",
       "    }\n",
       "\n",
       "    .dataframe thead th {\n",
       "        text-align: right;\n",
       "    }\n",
       "</style>\n",
       "<table border=\"1\" class=\"dataframe\">\n",
       "  <thead>\n",
       "    <tr style=\"text-align: right;\">\n",
       "      <th></th>\n",
       "      <th>latitude</th>\n",
       "      <th>longitude</th>\n",
       "      <th>Charger type</th>\n",
       "      <th>Name</th>\n",
       "      <th>State</th>\n",
       "      <th>stations</th>\n",
       "      <th>Plug types</th>\n",
       "      <th>Charging Network</th>\n",
       "      <th>Power (kW)</th>\n",
       "      <th>Hardware brand</th>\n",
       "      <th>Address</th>\n",
       "      <th>Postcode</th>\n",
       "    </tr>\n",
       "  </thead>\n",
       "  <tbody>\n",
       "    <tr>\n",
       "      <th>0</th>\n",
       "      <td>-36.029472</td>\n",
       "      <td>146.897073</td>\n",
       "      <td>AC (level 2)</td>\n",
       "      <td>Albury Waste Management Centre</td>\n",
       "      <td>NSW</td>\n",
       "      <td>1</td>\n",
       "      <td>Tesla (Type 2)</td>\n",
       "      <td>Chargefox</td>\n",
       "      <td>NaN</td>\n",
       "      <td>NaN</td>\n",
       "      <td>565 Mudge St, Hamilton Valley NSW 2641, Australia</td>\n",
       "      <td>2641</td>\n",
       "    </tr>\n",
       "    <tr>\n",
       "      <th>1</th>\n",
       "      <td>-30.511849</td>\n",
       "      <td>151.669382</td>\n",
       "      <td>AC (level 2)</td>\n",
       "      <td>Armidale Visitors Centre</td>\n",
       "      <td>NSW</td>\n",
       "      <td>1</td>\n",
       "      <td>Tesla (Type 2)</td>\n",
       "      <td>NRMA</td>\n",
       "      <td>50.0</td>\n",
       "      <td>NaN</td>\n",
       "      <td>82 Marsh St, Armidale NSW 2350, Australia</td>\n",
       "      <td>2350</td>\n",
       "    </tr>\n",
       "    <tr>\n",
       "      <th>2</th>\n",
       "      <td>-33.906637</td>\n",
       "      <td>151.213249</td>\n",
       "      <td>AC (level 2)</td>\n",
       "      <td>Audi Centre Sydney</td>\n",
       "      <td>NSW</td>\n",
       "      <td>1</td>\n",
       "      <td>Tesla (Type 2)</td>\n",
       "      <td>Chargefox</td>\n",
       "      <td>NaN</td>\n",
       "      <td>NaN</td>\n",
       "      <td>895 S Dowling St, Zetland NSW 2017, Australia</td>\n",
       "      <td>2017</td>\n",
       "    </tr>\n",
       "    <tr>\n",
       "      <th>3</th>\n",
       "      <td>-28.857543</td>\n",
       "      <td>153.561096</td>\n",
       "      <td>DC (level 3)</td>\n",
       "      <td>Ballina Central Shopping Centre</td>\n",
       "      <td>NSW</td>\n",
       "      <td>2</td>\n",
       "      <td>Both CHAdeMO &amp; CCS Combo 2/SAE</td>\n",
       "      <td>Chargefox</td>\n",
       "      <td>350.0</td>\n",
       "      <td>NaN</td>\n",
       "      <td>56 Bangalow Rd, Ballina NSW 2478, Australia</td>\n",
       "      <td>2478</td>\n",
       "    </tr>\n",
       "    <tr>\n",
       "      <th>4</th>\n",
       "      <td>-34.841118</td>\n",
       "      <td>148.912191</td>\n",
       "      <td>AC (level 2)</td>\n",
       "      <td>Banjo Paterson Park</td>\n",
       "      <td>NSW</td>\n",
       "      <td>1</td>\n",
       "      <td>Type 2</td>\n",
       "      <td>NRMA</td>\n",
       "      <td>50.0</td>\n",
       "      <td>NaN</td>\n",
       "      <td>81 Meehan St, Yass NSW 2582, Australia</td>\n",
       "      <td>2582</td>\n",
       "    </tr>\n",
       "    <tr>\n",
       "      <th>...</th>\n",
       "      <td>...</td>\n",
       "      <td>...</td>\n",
       "      <td>...</td>\n",
       "      <td>...</td>\n",
       "      <td>...</td>\n",
       "      <td>...</td>\n",
       "      <td>...</td>\n",
       "      <td>...</td>\n",
       "      <td>...</td>\n",
       "      <td>...</td>\n",
       "      <td>...</td>\n",
       "      <td>...</td>\n",
       "    </tr>\n",
       "    <tr>\n",
       "      <th>499</th>\n",
       "      <td>-32.925817</td>\n",
       "      <td>151.779175</td>\n",
       "      <td>AC (level 2)</td>\n",
       "      <td>Wharf Rd Carpark</td>\n",
       "      <td>NSW</td>\n",
       "      <td>4</td>\n",
       "      <td>Type 2</td>\n",
       "      <td>Chargefox</td>\n",
       "      <td>NaN</td>\n",
       "      <td>NaN</td>\n",
       "      <td>209 Wharf Rd, Newcastle NSW 2300, Australia</td>\n",
       "      <td>2300</td>\n",
       "    </tr>\n",
       "    <tr>\n",
       "      <th>500</th>\n",
       "      <td>-32.950352</td>\n",
       "      <td>151.182086</td>\n",
       "      <td>AC (level 2)</td>\n",
       "      <td>Wild Edge Retreat</td>\n",
       "      <td>NSW</td>\n",
       "      <td>2</td>\n",
       "      <td>J-1772</td>\n",
       "      <td>NaN</td>\n",
       "      <td>NaN</td>\n",
       "      <td>Tesla</td>\n",
       "      <td>Wild Edge Retreat, 260 Craft Rd, Wollombi NSW ...</td>\n",
       "      <td>2325</td>\n",
       "    </tr>\n",
       "    <tr>\n",
       "      <th>501</th>\n",
       "      <td>-33.871086</td>\n",
       "      <td>151.214474</td>\n",
       "      <td>DC (level 3)</td>\n",
       "      <td>Wilson Parking Domain Car Park</td>\n",
       "      <td>NSW</td>\n",
       "      <td>2</td>\n",
       "      <td>Both CHAdeMO &amp; CCS Combo 2/SAE</td>\n",
       "      <td>NaN</td>\n",
       "      <td>NaN</td>\n",
       "      <td>NaN</td>\n",
       "      <td>St Marys Rd, Sydney NSW 2000, Australia</td>\n",
       "      <td>2000</td>\n",
       "    </tr>\n",
       "    <tr>\n",
       "      <th>502</th>\n",
       "      <td>-33.859340</td>\n",
       "      <td>151.213523</td>\n",
       "      <td>AC (level 2)</td>\n",
       "      <td>Wilson Secure Parking Opera House</td>\n",
       "      <td>NSW</td>\n",
       "      <td>2</td>\n",
       "      <td>Tesla (Type 2)</td>\n",
       "      <td>NaN</td>\n",
       "      <td>NaN</td>\n",
       "      <td>NaN</td>\n",
       "      <td>2A Macquarie St, Sydney NSW 2000, Australia</td>\n",
       "      <td>2000</td>\n",
       "    </tr>\n",
       "    <tr>\n",
       "      <th>503</th>\n",
       "      <td>-34.423488</td>\n",
       "      <td>150.892258</td>\n",
       "      <td>DC (level 3)</td>\n",
       "      <td>Wollongong Central - P1 Basement</td>\n",
       "      <td>NSW</td>\n",
       "      <td>1</td>\n",
       "      <td>Both CHAdeMO &amp; CCS Combo 2/SAE</td>\n",
       "      <td>NaN</td>\n",
       "      <td>NaN</td>\n",
       "      <td>NaN</td>\n",
       "      <td>71 Market St, Wollongong NSW 2500, Australia</td>\n",
       "      <td>2500</td>\n",
       "    </tr>\n",
       "  </tbody>\n",
       "</table>\n",
       "<p>362 rows × 12 columns</p>\n",
       "</div>"
      ],
      "text/plain": [
       "      latitude   longitude  Charger type                               Name  \\\n",
       "0   -36.029472  146.897073  AC (level 2)     Albury Waste Management Centre   \n",
       "1   -30.511849  151.669382  AC (level 2)           Armidale Visitors Centre   \n",
       "2   -33.906637  151.213249  AC (level 2)                 Audi Centre Sydney   \n",
       "3   -28.857543  153.561096  DC (level 3)    Ballina Central Shopping Centre   \n",
       "4   -34.841118  148.912191  AC (level 2)                Banjo Paterson Park   \n",
       "..         ...         ...           ...                                ...   \n",
       "499 -32.925817  151.779175  AC (level 2)                   Wharf Rd Carpark   \n",
       "500 -32.950352  151.182086  AC (level 2)                  Wild Edge Retreat   \n",
       "501 -33.871086  151.214474  DC (level 3)     Wilson Parking Domain Car Park   \n",
       "502 -33.859340  151.213523  AC (level 2)  Wilson Secure Parking Opera House   \n",
       "503 -34.423488  150.892258  DC (level 3)   Wollongong Central - P1 Basement   \n",
       "\n",
       "    State  stations                     Plug types  Charging Network  \\\n",
       "0     NSW         1                  Tesla (Type 2)        Chargefox   \n",
       "1     NSW         1                  Tesla (Type 2)             NRMA   \n",
       "2     NSW         1                  Tesla (Type 2)        Chargefox   \n",
       "3     NSW         2  Both CHAdeMO & CCS Combo 2/SAE        Chargefox   \n",
       "4     NSW         1                          Type 2             NRMA   \n",
       "..    ...       ...                             ...              ...   \n",
       "499   NSW         4                          Type 2        Chargefox   \n",
       "500   NSW         2                          J-1772              NaN   \n",
       "501   NSW         2  Both CHAdeMO & CCS Combo 2/SAE              NaN   \n",
       "502   NSW         2                  Tesla (Type 2)              NaN   \n",
       "503   NSW         1  Both CHAdeMO & CCS Combo 2/SAE              NaN   \n",
       "\n",
       "     Power (kW) Hardware brand  \\\n",
       "0           NaN            NaN   \n",
       "1          50.0            NaN   \n",
       "2           NaN            NaN   \n",
       "3         350.0            NaN   \n",
       "4          50.0            NaN   \n",
       "..          ...            ...   \n",
       "499         NaN            NaN   \n",
       "500         NaN          Tesla   \n",
       "501         NaN            NaN   \n",
       "502         NaN            NaN   \n",
       "503         NaN            NaN   \n",
       "\n",
       "                                               Address  Postcode  \n",
       "0    565 Mudge St, Hamilton Valley NSW 2641, Australia      2641  \n",
       "1            82 Marsh St, Armidale NSW 2350, Australia      2350  \n",
       "2        895 S Dowling St, Zetland NSW 2017, Australia      2017  \n",
       "3          56 Bangalow Rd, Ballina NSW 2478, Australia      2478  \n",
       "4               81 Meehan St, Yass NSW 2582, Australia      2582  \n",
       "..                                                 ...       ...  \n",
       "499        209 Wharf Rd, Newcastle NSW 2300, Australia      2300  \n",
       "500  Wild Edge Retreat, 260 Craft Rd, Wollombi NSW ...      2325  \n",
       "501            St Marys Rd, Sydney NSW 2000, Australia      2000  \n",
       "502        2A Macquarie St, Sydney NSW 2000, Australia      2000  \n",
       "503       71 Market St, Wollongong NSW 2500, Australia      2500  \n",
       "\n",
       "[362 rows x 12 columns]"
      ]
     },
     "execution_count": 26,
     "metadata": {},
     "output_type": "execute_result"
    }
   ],
   "source": [
    "#display null values\n",
    "df[df.isnull().any(axis=1)]"
   ]
  },
  {
   "cell_type": "code",
   "execution_count": 27,
   "id": "b6f0bf86-81ab-4b79-8f7d-bff524af7b16",
   "metadata": {
    "tags": []
   },
   "outputs": [
    {
     "name": "stdout",
     "output_type": "stream",
     "text": [
      "Duplicate entries found in this dataset = 2.\n"
     ]
    }
   ],
   "source": [
    "#number of duplicate entries\n",
    "print('Duplicate entries found in this dataset = {}.' .format(df.duplicated().sum()))"
   ]
  },
  {
   "cell_type": "code",
   "execution_count": 28,
   "id": "4b10b2c1-4899-46bb-b4d1-d00cb7d6e0fe",
   "metadata": {
    "tags": []
   },
   "outputs": [
    {
     "data": {
      "text/plain": [
       "(504, 12)"
      ]
     },
     "execution_count": 28,
     "metadata": {},
     "output_type": "execute_result"
    }
   ],
   "source": [
    "# Number of rows and columns in the dataframe\n",
    "df.shape"
   ]
  },
  {
   "cell_type": "code",
   "execution_count": 29,
   "id": "ee2856ad-3e8c-48a4-8678-26b16f29346f",
   "metadata": {
    "tags": []
   },
   "outputs": [
    {
     "data": {
      "text/html": [
       "<div>\n",
       "<style scoped>\n",
       "    .dataframe tbody tr th:only-of-type {\n",
       "        vertical-align: middle;\n",
       "    }\n",
       "\n",
       "    .dataframe tbody tr th {\n",
       "        vertical-align: top;\n",
       "    }\n",
       "\n",
       "    .dataframe thead th {\n",
       "        text-align: right;\n",
       "    }\n",
       "</style>\n",
       "<table border=\"1\" class=\"dataframe\">\n",
       "  <thead>\n",
       "    <tr style=\"text-align: right;\">\n",
       "      <th></th>\n",
       "      <th>latitude</th>\n",
       "      <th>longitude</th>\n",
       "      <th>stations</th>\n",
       "      <th>Power (kW)</th>\n",
       "    </tr>\n",
       "  </thead>\n",
       "  <tbody>\n",
       "    <tr>\n",
       "      <th>count</th>\n",
       "      <td>504.000000</td>\n",
       "      <td>504.000000</td>\n",
       "      <td>504.000000</td>\n",
       "      <td>320.000000</td>\n",
       "    </tr>\n",
       "    <tr>\n",
       "      <th>mean</th>\n",
       "      <td>-33.192794</td>\n",
       "      <td>150.813131</td>\n",
       "      <td>2.017857</td>\n",
       "      <td>36.324812</td>\n",
       "    </tr>\n",
       "    <tr>\n",
       "      <th>std</th>\n",
       "      <td>1.823806</td>\n",
       "      <td>1.698441</td>\n",
       "      <td>1.520463</td>\n",
       "      <td>62.030915</td>\n",
       "    </tr>\n",
       "    <tr>\n",
       "      <th>min</th>\n",
       "      <td>-36.941837</td>\n",
       "      <td>141.445393</td>\n",
       "      <td>1.000000</td>\n",
       "      <td>2.000000</td>\n",
       "    </tr>\n",
       "    <tr>\n",
       "      <th>25%</th>\n",
       "      <td>-33.919368</td>\n",
       "      <td>150.425230</td>\n",
       "      <td>1.000000</td>\n",
       "      <td>14.000000</td>\n",
       "    </tr>\n",
       "    <tr>\n",
       "      <th>50%</th>\n",
       "      <td>-33.770287</td>\n",
       "      <td>151.121731</td>\n",
       "      <td>2.000000</td>\n",
       "      <td>22.000000</td>\n",
       "    </tr>\n",
       "    <tr>\n",
       "      <th>75%</th>\n",
       "      <td>-32.777522</td>\n",
       "      <td>151.329321</td>\n",
       "      <td>2.000000</td>\n",
       "      <td>22.000000</td>\n",
       "    </tr>\n",
       "    <tr>\n",
       "      <th>max</th>\n",
       "      <td>-27.616332</td>\n",
       "      <td>153.615697</td>\n",
       "      <td>20.000000</td>\n",
       "      <td>450.000000</td>\n",
       "    </tr>\n",
       "  </tbody>\n",
       "</table>\n",
       "</div>"
      ],
      "text/plain": [
       "         latitude   longitude    stations  Power (kW)\n",
       "count  504.000000  504.000000  504.000000  320.000000\n",
       "mean   -33.192794  150.813131    2.017857   36.324812\n",
       "std      1.823806    1.698441    1.520463   62.030915\n",
       "min    -36.941837  141.445393    1.000000    2.000000\n",
       "25%    -33.919368  150.425230    1.000000   14.000000\n",
       "50%    -33.770287  151.121731    2.000000   22.000000\n",
       "75%    -32.777522  151.329321    2.000000   22.000000\n",
       "max    -27.616332  153.615697   20.000000  450.000000"
      ]
     },
     "execution_count": 29,
     "metadata": {},
     "output_type": "execute_result"
    }
   ],
   "source": [
    "#describe data\n",
    "df[['latitude', 'longitude', 'stations', 'Power (kW)']].describe()"
   ]
  },
  {
   "cell_type": "code",
   "execution_count": 30,
   "id": "94bd6ec0-7494-47c2-851f-73c2c1442acb",
   "metadata": {
    "tags": []
   },
   "outputs": [
    {
     "data": {
      "text/plain": [
       "Text(0, 0.5, 'Power (kWh)')"
      ]
     },
     "execution_count": 30,
     "metadata": {},
     "output_type": "execute_result"
    },
    {
     "data": {
      "image/png": "[encoded data removed]",
      "text/plain": [
       "<Figure size 1000x600 with 1 Axes>"
      ]
     },
     "metadata": {},
     "output_type": "display_data"
    }
   ],
   "source": [
    "#visualize power consumption\n",
    "plt.figure(figsize=(10,6))\n",
    "sns.lineplot(df['Power (kW)'])\n",
    "plt.title('Power Consumption')\n",
    "plt.xlabel('Event counts')\n",
    "plt.ylabel('Power (kWh)')"
   ]
  },
  {
   "cell_type": "code",
   "execution_count": 31,
   "id": "827fd27e-3538-4263-9aee-ecba003b5831",
   "metadata": {
    "tags": []
   },
   "outputs": [],
   "source": [
    "X = df[['stations']]\n",
    "Y =  df[['latitude', 'longitude', 'Charger type', 'Name', 'State', 'stations',\n",
    "       'Plug types ', 'Charging Network', 'Power (kW)', 'Hardware brand',\n",
    "       'Address', 'Postcode']]"
   ]
  },
  {
   "cell_type": "code",
   "execution_count": 32,
   "id": "13eefb84-636c-40f9-a0af-2aacdc249b98",
   "metadata": {
    "tags": []
   },
   "outputs": [
    {
     "name": "stderr",
     "output_type": "stream",
     "text": [
      "C:\\Users\\wambu\\anaconda3\\envs\\PythonData\\Lib\\site-packages\\sklearn\\cluster\\_kmeans.py:1436: UserWarning: KMeans is known to have a memory leak on Windows with MKL, when there are less chunks than available threads. You can avoid it by setting the environment variable OMP_NUM_THREADS=2.\n",
      "  warnings.warn(\n"
     ]
    }
   ],
   "source": [
    "kmeans_model = KMeans(n_clusters=4, init='k-means++', random_state=0, n_init=10)\n",
    "y_kmeans = kmeans_model.fit_predict(X)"
   ]
  },
  {
   "cell_type": "code",
   "execution_count": 33,
   "id": "49fe718c-34ef-45c5-b52f-b37b1a0d0cb7",
   "metadata": {
    "tags": []
   },
   "outputs": [
    {
     "data": {
      "image/png": "[encoded data removed]",
      "text/plain": [
       "<Figure size 640x480 with 1 Axes>"
      ]
     },
     "metadata": {},
     "output_type": "display_data"
    }
   ],
   "source": [
    "m = np.array(X)\n",
    "plt.scatter(m[y_kmeans == 0, 0], m[y_kmeans == 0, 0], s=80, c='red', label='Cluster 1')\n",
    "plt.scatter(m[y_kmeans == 1, 0], m[y_kmeans == 1, 0], s=80, c='yellow', label='Cluster 2')\n",
    "plt.scatter(m[y_kmeans == 2, 0], m[y_kmeans == 2, 0], s=80, c='blue', label='Cluster 3')\n",
    "plt.scatter(m[y_kmeans == 3, 0], m[y_kmeans == 3, 0], s=80, c='green', label='Cluster 4')\n",
    "plt.scatter(kmeans_model.cluster_centers_[:, 0], kmeans_model.cluster_centers_[:, 0], s=100, c='black', label='Centroids')\n",
    "plt.title('Clusters of Electric Vehicles')\n",
    "plt.xlabel('stations')\n",
    "plt.ylabel('postcode')\n",
    "plt.legend()\n",
    "plt.grid(True)\n",
    "plt.show()"
   ]
  },
  {
   "cell_type": "code",
   "execution_count": 34,
   "id": "6a761042-fb86-4c63-9302-5a7c364d0858",
   "metadata": {
    "tags": []
   },
   "outputs": [
    {
     "data": {
      "image/png": "[encoded data removed]",
      "text/plain": [
       "<Figure size 1000x600 with 1 Axes>"
      ]
     },
     "metadata": {},
     "output_type": "display_data"
    }
   ],
   "source": [
    "#pie chart \n",
    "plt.figure(figsize=(10,6))\n",
    "df['stations'].value_counts().plot(kind='pie', autopct='%1.1f%%', shadow=True, startangle=90)\n",
    "plt.title('Charging Stations')\n",
    "plt.ylabel('')\n",
    "plt.show()"
   ]
  },
  {
   "cell_type": "code",
   "execution_count": null,
   "id": "658be449-446c-49bd-a31a-e2e949d54c14",
   "metadata": {},
   "outputs": [],
   "source": []
  }
 ],
 "metadata": {
  "kernelspec": {
   "display_name": "Python 3 (ipykernel)",
   "language": "python",
   "name": "python3"
  },
  "language_info": {
   "codemirror_mode": {
    "name": "ipython",
    "version": 3
   },
   "file_extension": ".py",
   "mimetype": "text/x-python",
   "name": "python",
   "nbconvert_exporter": "python",
   "pygments_lexer": "ipython3",
   "version": "3.11.4"
  }
 },
 "nbformat": 4,
 "nbformat_minor": 5
}
